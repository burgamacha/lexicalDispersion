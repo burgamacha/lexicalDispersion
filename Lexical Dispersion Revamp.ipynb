{
 "cells": [
  {
   "cell_type": "markdown",
   "metadata": {},
   "source": [
    "# Plotting Lexical Dispersion - working with JSON reviews"
   ]
  },
  {
   "cell_type": "code",
   "execution_count": 1,
   "metadata": {
    "ExecuteTime": {
     "end_time": "2020-01-20T14:55:16.352809Z",
     "start_time": "2020-01-20T14:55:16.108565Z"
    }
   },
   "outputs": [],
   "source": [
    "import os\n",
    "import pandas as pd\n",
    "import json"
   ]
  },
  {
   "cell_type": "markdown",
   "metadata": {},
   "source": [
    "## Data Munging"
   ]
  },
  {
   "cell_type": "code",
   "execution_count": 2,
   "metadata": {
    "ExecuteTime": {
     "end_time": "2020-01-20T14:55:16.834846Z",
     "start_time": "2020-01-20T14:55:16.800026Z"
    }
   },
   "outputs": [],
   "source": [
    "path = './data/690_webhose-2017-03_20170904112233'\n",
    "good_review_folder = os.listdir(path)"
   ]
  },
  {
   "cell_type": "code",
   "execution_count": 3,
   "metadata": {
    "ExecuteTime": {
     "end_time": "2020-01-20T14:55:22.514879Z",
     "start_time": "2020-01-20T14:55:17.013313Z"
    },
    "code_folding": []
   },
   "outputs": [
    {
     "name": "stdout",
     "output_type": "stream",
     "text": [
      "9233\n"
     ]
    }
   ],
   "source": [
    "good_reviews = []\n",
    "for file in good_review_folder:\n",
    "    with open(path + '/' +file, 'r') as json_file:\n",
    "        data = json_file.readlines()\n",
    "        good_reviews.append(list(map(json.loads, data))[0])\n",
    "print(len(good_reviews))"
   ]
  },
  {
   "cell_type": "code",
   "execution_count": 4,
   "metadata": {
    "ExecuteTime": {
     "end_time": "2020-01-20T14:55:22.523455Z",
     "start_time": "2020-01-20T14:55:22.516275Z"
    }
   },
   "outputs": [
    {
     "data": {
      "text/plain": [
       "{'organizations': [],\n",
       " 'uuid': 'b4ce8b8623dcf0778478b600b0470ebad0afc348',\n",
       " 'thread': {'social': {'gplus': {'shares': 0},\n",
       "   'pinterest': {'shares': 0},\n",
       "   'vk': {'shares': 0},\n",
       "   'linkedin': {'shares': 0},\n",
       "   'facebook': {'likes': 0, 'shares': 0, 'comments': 0},\n",
       "   'stumbledupon': {'shares': 0}},\n",
       "  'site_full': 'www.tripadvisor.com',\n",
       "  'main_image': 'https://media-cdn.tripadvisor.com/media/photo-s/0e/c5/16/00/double-room.jpg',\n",
       "  'site_section': 'https://www.tripadvisor.com/Hotel_Review-g186338-d2458180-Reviews-Point_A_Hotel_London_Liverpool_Street-London_England.html',\n",
       "  'section_title': 'Point A Hotel, London Liverpool Street - UPDATED 2017 Reviews &amp; Price Comparison (England) - TripAdvisor',\n",
       "  'url': 'https://www.tripadvisor.com/ShowUserReviews-g186338-d2458180-r470788461-Point_A_Hotel_London_Liverpool_Street-London_England.html',\n",
       "  'country': 'US',\n",
       "  'domain_rank': 189,\n",
       "  'title': 'best stay ever',\n",
       "  'performance_score': 0,\n",
       "  'site': 'tripadvisor.com',\n",
       "  'participants_count': 2,\n",
       "  'title_full': 'best stay ever - Review of Point A Hotel, London Liverpool Street, London, England - TripAdvisor',\n",
       "  'spam_score': 0.044,\n",
       "  'site_type': 'discussions',\n",
       "  'published': '2017-03-28T03:00:00.000+03:00',\n",
       "  'replies_count': 1,\n",
       "  'uuid': 'b4ce8b8623dcf0778478b600b0470ebad0afc348'},\n",
       " 'author': 'christine000037',\n",
       " 'url': 'https://www.tripadvisor.com/ShowUserReviews-g186338-d2458180-r470788461-Point_A_Hotel_London_Liverpool_Street-London_England.html',\n",
       " 'ord_in_thread': 0,\n",
       " 'title': 'best stay ever',\n",
       " 'locations': [],\n",
       " 'entities': {'persons': [], 'locations': [], 'organizations': []},\n",
       " 'highlightText': '',\n",
       " 'language': 'english',\n",
       " 'persons': [],\n",
       " 'text': 'I really enjoyed my stay at this hotel. staff are super friendly and professional, made me feel always welcome. the rooms are small but we didnt spend much time in it but it was clean so no complaints.',\n",
       " 'external_links': [],\n",
       " 'published': '2017-03-28T03:00:00.000+03:00',\n",
       " 'crawled': '2017-03-31T19:17:30.083+03:00',\n",
       " 'highlightTitle': ''}"
      ]
     },
     "execution_count": 4,
     "metadata": {},
     "output_type": "execute_result"
    }
   ],
   "source": [
    "good_reviews[25]"
   ]
  },
  {
   "cell_type": "code",
   "execution_count": 5,
   "metadata": {
    "ExecuteTime": {
     "end_time": "2020-01-20T14:55:22.528289Z",
     "start_time": "2020-01-20T14:55:22.525030Z"
    }
   },
   "outputs": [
    {
     "data": {
      "text/plain": [
       "dict_keys(['organizations', 'uuid', 'thread', 'author', 'url', 'ord_in_thread', 'title', 'locations', 'entities', 'highlightText', 'language', 'persons', 'text', 'external_links', 'published', 'crawled', 'highlightTitle'])"
      ]
     },
     "execution_count": 5,
     "metadata": {},
     "output_type": "execute_result"
    }
   ],
   "source": [
    "keys = good_reviews[0].keys()\n",
    "keys"
   ]
  },
  {
   "cell_type": "code",
   "execution_count": 6,
   "metadata": {
    "ExecuteTime": {
     "end_time": "2020-01-20T14:55:22.546636Z",
     "start_time": "2020-01-20T14:55:22.530056Z"
    }
   },
   "outputs": [],
   "source": [
    "for UON in good_reviews:\n",
    "    for key in UON.keys():\n",
    "        if key not in keys:\n",
    "            keys.append(key)\n",
    "            print('added ', key, ' to namespace')\n",
    "        else:\n",
    "            pass"
   ]
  },
  {
   "cell_type": "code",
   "execution_count": 7,
   "metadata": {
    "ExecuteTime": {
     "end_time": "2020-01-20T14:55:22.551558Z",
     "start_time": "2020-01-20T14:55:22.548592Z"
    }
   },
   "outputs": [],
   "source": [
    "columns = ['uuid', 'title', 'published', 'text']"
   ]
  },
  {
   "cell_type": "code",
   "execution_count": 8,
   "metadata": {
    "ExecuteTime": {
     "end_time": "2020-01-20T14:55:22.589765Z",
     "start_time": "2020-01-20T14:55:22.553577Z"
    }
   },
   "outputs": [],
   "source": [
    "review_df = pd.DataFrame.from_dict(good_reviews, orient = 'columns')"
   ]
  },
  {
   "cell_type": "code",
   "execution_count": 13,
   "metadata": {
    "ExecuteTime": {
     "end_time": "2020-01-20T14:56:49.487104Z",
     "start_time": "2020-01-20T14:56:49.479747Z"
    }
   },
   "outputs": [
    {
     "data": {
      "text/html": [
       "<div>\n",
       "<style scoped>\n",
       "    .dataframe tbody tr th:only-of-type {\n",
       "        vertical-align: middle;\n",
       "    }\n",
       "\n",
       "    .dataframe tbody tr th {\n",
       "        vertical-align: top;\n",
       "    }\n",
       "\n",
       "    .dataframe thead th {\n",
       "        text-align: right;\n",
       "    }\n",
       "</style>\n",
       "<table border=\"1\" class=\"dataframe\">\n",
       "  <thead>\n",
       "    <tr style=\"text-align: right;\">\n",
       "      <th></th>\n",
       "      <th>uuid</th>\n",
       "      <th>title</th>\n",
       "      <th>published</th>\n",
       "      <th>text</th>\n",
       "    </tr>\n",
       "  </thead>\n",
       "  <tbody>\n",
       "    <tr>\n",
       "      <th>0</th>\n",
       "      <td>81637c51531cbadbf4d669be0849afe1dd4180c8</td>\n",
       "      <td>Fantastic stay</td>\n",
       "      <td>2017-03-14T02:00:00.000+02:00</td>\n",
       "      <td>This hotel was quite a find. Centrally located...</td>\n",
       "    </tr>\n",
       "    <tr>\n",
       "      <th>1</th>\n",
       "      <td>0043ecb630b38d8ecb79093a008152447eb158e6</td>\n",
       "      <td>Great Hotel</td>\n",
       "      <td>2017-03-11T02:00:00.000+02:00</td>\n",
       "      <td>Great staff, great rooms!! Will be back for su...</td>\n",
       "    </tr>\n",
       "    <tr>\n",
       "      <th>2</th>\n",
       "      <td>26c0934f3559367dcc94402cd8d7516a1b559684</td>\n",
       "      <td>Heavenly Hilton -</td>\n",
       "      <td>2017-03-18T02:00:00.000+02:00</td>\n",
       "      <td>First, let me confess: Hilton usually is not m...</td>\n",
       "    </tr>\n",
       "  </tbody>\n",
       "</table>\n",
       "</div>"
      ],
      "text/plain": [
       "                                       uuid              title  \\\n",
       "0  81637c51531cbadbf4d669be0849afe1dd4180c8     Fantastic stay   \n",
       "1  0043ecb630b38d8ecb79093a008152447eb158e6        Great Hotel   \n",
       "2  26c0934f3559367dcc94402cd8d7516a1b559684  Heavenly Hilton -   \n",
       "\n",
       "                       published  \\\n",
       "0  2017-03-14T02:00:00.000+02:00   \n",
       "1  2017-03-11T02:00:00.000+02:00   \n",
       "2  2017-03-18T02:00:00.000+02:00   \n",
       "\n",
       "                                                text  \n",
       "0  This hotel was quite a find. Centrally located...  \n",
       "1  Great staff, great rooms!! Will be back for su...  \n",
       "2  First, let me confess: Hilton usually is not m...  "
      ]
     },
     "execution_count": 13,
     "metadata": {},
     "output_type": "execute_result"
    }
   ],
   "source": [
    "columns = ['uuid', 'title', 'published', 'text']\n",
    "review_df[columns].head(3)"
   ]
  },
  {
   "cell_type": "markdown",
   "metadata": {},
   "source": [
    "## Feature Engineering - True or False?"
   ]
  },
  {
   "cell_type": "code",
   "execution_count": 14,
   "metadata": {
    "ExecuteTime": {
     "end_time": "2020-01-20T15:00:57.020546Z",
     "start_time": "2020-01-20T15:00:57.018207Z"
    }
   },
   "outputs": [],
   "source": [
    "bed = \"|\".join(('pillow', 'bed', 'sheets', 'blankets', 'covers', 'comforter'))\n",
    "desk = \"|\".join(('chair', 'desk', 'stationary', 'outlet', 'plug', 'plugs'))\n",
    "room = \"|\".join(('carpet', 'wallpaper', 'paint', 'fridge', 'light', 'lights', 'curtain'))\n",
    "bathroom = \"|\".join(('towels', 'bath', 'tub', 'shower', 'mirror', 'toilet', 'soap'))"
   ]
  },
  {
   "cell_type": "code",
   "execution_count": 15,
   "metadata": {
    "ExecuteTime": {
     "end_time": "2020-01-20T15:01:00.347743Z",
     "start_time": "2020-01-20T15:01:00.167891Z"
    }
   },
   "outputs": [],
   "source": [
    "elements = [bed, desk, room, bathroom]\n",
    "\n",
    "for element in elements:\n",
    "    review_df[element[0:3]] = review_df['text'].str.contains(element)"
   ]
  },
  {
   "cell_type": "code",
   "execution_count": 16,
   "metadata": {
    "ExecuteTime": {
     "end_time": "2020-01-20T15:01:01.131976Z",
     "start_time": "2020-01-20T15:01:01.126282Z"
    }
   },
   "outputs": [],
   "source": [
    "review_df.rename(columns = {'pil': 'bed', 'cha': 'desk', 'car': 'room', 'tow': 'bathroom'}, inplace = True)"
   ]
  },
  {
   "cell_type": "code",
   "execution_count": 17,
   "metadata": {
    "ExecuteTime": {
     "end_time": "2020-01-20T15:01:05.353316Z",
     "start_time": "2020-01-20T15:01:05.332081Z"
    }
   },
   "outputs": [
    {
     "data": {
      "text/html": [
       "<div>\n",
       "<style scoped>\n",
       "    .dataframe tbody tr th:only-of-type {\n",
       "        vertical-align: middle;\n",
       "    }\n",
       "\n",
       "    .dataframe tbody tr th {\n",
       "        vertical-align: top;\n",
       "    }\n",
       "\n",
       "    .dataframe thead th {\n",
       "        text-align: right;\n",
       "    }\n",
       "</style>\n",
       "<table border=\"1\" class=\"dataframe\">\n",
       "  <thead>\n",
       "    <tr style=\"text-align: right;\">\n",
       "      <th></th>\n",
       "      <th>author</th>\n",
       "      <th>crawled</th>\n",
       "      <th>entities</th>\n",
       "      <th>external_links</th>\n",
       "      <th>highlightText</th>\n",
       "      <th>highlightTitle</th>\n",
       "      <th>language</th>\n",
       "      <th>locations</th>\n",
       "      <th>ord_in_thread</th>\n",
       "      <th>organizations</th>\n",
       "      <th>...</th>\n",
       "      <th>published</th>\n",
       "      <th>text</th>\n",
       "      <th>thread</th>\n",
       "      <th>title</th>\n",
       "      <th>url</th>\n",
       "      <th>uuid</th>\n",
       "      <th>bed</th>\n",
       "      <th>desk</th>\n",
       "      <th>room</th>\n",
       "      <th>bathroom</th>\n",
       "    </tr>\n",
       "  </thead>\n",
       "  <tbody>\n",
       "    <tr>\n",
       "      <th>0</th>\n",
       "      <td>Kim E</td>\n",
       "      <td>2017-03-27T03:07:16.539+03:00</td>\n",
       "      <td>{'persons': [], 'locations': [], 'organization...</td>\n",
       "      <td>[]</td>\n",
       "      <td></td>\n",
       "      <td></td>\n",
       "      <td>english</td>\n",
       "      <td>[]</td>\n",
       "      <td>0</td>\n",
       "      <td>[]</td>\n",
       "      <td>...</td>\n",
       "      <td>2017-03-14T02:00:00.000+02:00</td>\n",
       "      <td>This hotel was quite a find. Centrally located...</td>\n",
       "      <td>{'social': {'gplus': {'shares': 0}, 'pinterest...</td>\n",
       "      <td>Fantastic stay</td>\n",
       "      <td>https://www.tripadvisor.com/ShowUserReviews-g6...</td>\n",
       "      <td>81637c51531cbadbf4d669be0849afe1dd4180c8</td>\n",
       "      <td>True</td>\n",
       "      <td>False</td>\n",
       "      <td>False</td>\n",
       "      <td>False</td>\n",
       "    </tr>\n",
       "    <tr>\n",
       "      <th>1</th>\n",
       "      <td>Danelle S</td>\n",
       "      <td>2017-03-26T21:04:56.491+03:00</td>\n",
       "      <td>{'persons': [], 'locations': [], 'organization...</td>\n",
       "      <td>[]</td>\n",
       "      <td></td>\n",
       "      <td></td>\n",
       "      <td>english</td>\n",
       "      <td>[]</td>\n",
       "      <td>0</td>\n",
       "      <td>[]</td>\n",
       "      <td>...</td>\n",
       "      <td>2017-03-11T02:00:00.000+02:00</td>\n",
       "      <td>Great staff, great rooms!! Will be back for su...</td>\n",
       "      <td>{'social': {'gplus': {'shares': 0}, 'pinterest...</td>\n",
       "      <td>Great Hotel</td>\n",
       "      <td>https://www.tripadvisor.com/ShowUserReviews-g3...</td>\n",
       "      <td>0043ecb630b38d8ecb79093a008152447eb158e6</td>\n",
       "      <td>True</td>\n",
       "      <td>False</td>\n",
       "      <td>False</td>\n",
       "      <td>False</td>\n",
       "    </tr>\n",
       "    <tr>\n",
       "      <th>2</th>\n",
       "      <td>Talkabout</td>\n",
       "      <td>2017-03-28T11:15:47.404+03:00</td>\n",
       "      <td>{'persons': [], 'locations': [], 'organization...</td>\n",
       "      <td>[]</td>\n",
       "      <td></td>\n",
       "      <td></td>\n",
       "      <td>english</td>\n",
       "      <td>[]</td>\n",
       "      <td>0</td>\n",
       "      <td>[]</td>\n",
       "      <td>...</td>\n",
       "      <td>2017-03-18T02:00:00.000+02:00</td>\n",
       "      <td>First, let me confess: Hilton usually is not m...</td>\n",
       "      <td>{'social': {'gplus': {'shares': 0}, 'pinterest...</td>\n",
       "      <td>Heavenly Hilton -</td>\n",
       "      <td>https://www.tripadvisor.com/ShowUserReviews-g1...</td>\n",
       "      <td>26c0934f3559367dcc94402cd8d7516a1b559684</td>\n",
       "      <td>False</td>\n",
       "      <td>False</td>\n",
       "      <td>False</td>\n",
       "      <td>False</td>\n",
       "    </tr>\n",
       "  </tbody>\n",
       "</table>\n",
       "<p>3 rows × 21 columns</p>\n",
       "</div>"
      ],
      "text/plain": [
       "      author                        crawled  \\\n",
       "0      Kim E  2017-03-27T03:07:16.539+03:00   \n",
       "1  Danelle S  2017-03-26T21:04:56.491+03:00   \n",
       "2  Talkabout  2017-03-28T11:15:47.404+03:00   \n",
       "\n",
       "                                            entities external_links  \\\n",
       "0  {'persons': [], 'locations': [], 'organization...             []   \n",
       "1  {'persons': [], 'locations': [], 'organization...             []   \n",
       "2  {'persons': [], 'locations': [], 'organization...             []   \n",
       "\n",
       "  highlightText highlightTitle language locations  ord_in_thread  \\\n",
       "0                               english        []              0   \n",
       "1                               english        []              0   \n",
       "2                               english        []              0   \n",
       "\n",
       "  organizations    ...                         published  \\\n",
       "0            []    ...     2017-03-14T02:00:00.000+02:00   \n",
       "1            []    ...     2017-03-11T02:00:00.000+02:00   \n",
       "2            []    ...     2017-03-18T02:00:00.000+02:00   \n",
       "\n",
       "                                                text  \\\n",
       "0  This hotel was quite a find. Centrally located...   \n",
       "1  Great staff, great rooms!! Will be back for su...   \n",
       "2  First, let me confess: Hilton usually is not m...   \n",
       "\n",
       "                                              thread              title  \\\n",
       "0  {'social': {'gplus': {'shares': 0}, 'pinterest...     Fantastic stay   \n",
       "1  {'social': {'gplus': {'shares': 0}, 'pinterest...        Great Hotel   \n",
       "2  {'social': {'gplus': {'shares': 0}, 'pinterest...  Heavenly Hilton -   \n",
       "\n",
       "                                                 url  \\\n",
       "0  https://www.tripadvisor.com/ShowUserReviews-g6...   \n",
       "1  https://www.tripadvisor.com/ShowUserReviews-g3...   \n",
       "2  https://www.tripadvisor.com/ShowUserReviews-g1...   \n",
       "\n",
       "                                       uuid    bed   desk   room  bathroom  \n",
       "0  81637c51531cbadbf4d669be0849afe1dd4180c8   True  False  False     False  \n",
       "1  0043ecb630b38d8ecb79093a008152447eb158e6   True  False  False     False  \n",
       "2  26c0934f3559367dcc94402cd8d7516a1b559684  False  False  False     False  \n",
       "\n",
       "[3 rows x 21 columns]"
      ]
     },
     "execution_count": 17,
     "metadata": {},
     "output_type": "execute_result"
    }
   ],
   "source": [
    "review_df.head(3)"
   ]
  },
  {
   "cell_type": "code",
   "execution_count": 21,
   "metadata": {
    "ExecuteTime": {
     "end_time": "2020-01-20T15:03:49.469825Z",
     "start_time": "2020-01-20T15:03:49.461672Z"
    }
   },
   "outputs": [
    {
     "name": "stdout",
     "output_type": "stream",
     "text": [
      "False    7052\n",
      "True     2181\n",
      "Name: bed, dtype: int64 \n",
      "\n",
      "False    8192\n",
      "True     1041\n",
      "Name: desk, dtype: int64 \n",
      "\n",
      "False    8073\n",
      "True     1160\n",
      "Name: room, dtype: int64 \n",
      "\n",
      "False    6829\n",
      "True     2404\n",
      "Name: bathroom, dtype: int64 \n",
      "\n"
     ]
    }
   ],
   "source": [
    "print(review_df.bed.value_counts(), '\\n')\n",
    "print(review_df.desk.value_counts(), '\\n')\n",
    "print(review_df.room.value_counts(), '\\n')\n",
    "print(review_df.bathroom.value_counts(), '\\n')"
   ]
  },
  {
   "cell_type": "markdown",
   "metadata": {},
   "source": [
    "## Feature Engineering - List of Element Mentions"
   ]
  },
  {
   "cell_type": "code",
   "execution_count": 23,
   "metadata": {
    "ExecuteTime": {
     "end_time": "2020-01-20T15:08:42.668782Z",
     "start_time": "2020-01-20T15:08:42.666162Z"
    }
   },
   "outputs": [],
   "source": [
    "room_elements = ['pillow', 'bed', 'sheets', 'blankets', 'covers', 'comforter', \n",
    "                'chair', 'desk', 'stationary', 'outlet', 'plug', 'plugs',\n",
    "                'carpet', 'wallpaper', 'paint', 'fridge', 'light', 'lights', 'curtain',\n",
    "                'towels', 'bath', 'tub', 'shower', 'mirror', 'toilet', 'soap']\n",
    "\n",
    "punctuation = ',?!.\\/#@\"><[]'"
   ]
  },
  {
   "cell_type": "code",
   "execution_count": 24,
   "metadata": {
    "ExecuteTime": {
     "end_time": "2020-01-20T15:08:43.299373Z",
     "start_time": "2020-01-20T15:08:43.297000Z"
    }
   },
   "outputs": [],
   "source": [
    "def room_list(x):\n",
    "    list_of_words = x.split(\" \")\n",
    "    out_data = []\n",
    "    for word in list_of_words:\n",
    "        word = word.lower()\n",
    "        if word.strip(punctuation) in room_elements:\n",
    "            out_data.append(word.strip(punctuation))\n",
    "    return (str(out_data))"
   ]
  },
  {
   "cell_type": "code",
   "execution_count": 25,
   "metadata": {
    "ExecuteTime": {
     "end_time": "2020-01-20T15:08:44.414305Z",
     "start_time": "2020-01-20T15:08:43.958698Z"
    }
   },
   "outputs": [
    {
     "data": {
      "text/plain": [
       "[]                                                                       6264\n",
       "['bed']                                                                   634\n",
       "['desk']                                                                  518\n",
       "['shower']                                                                217\n",
       "['bed', 'shower']                                                          96\n",
       "['light']                                                                  83\n",
       "['fridge']                                                                 66\n",
       "['towels']                                                                 65\n",
       "['bath']                                                                   57\n",
       "['bed', 'bed']                                                             52\n",
       "['shower', 'bed']                                                          39\n",
       "['desk', 'desk']                                                           38\n",
       "['bed', 'desk']                                                            37\n",
       "['lights']                                                                 33\n",
       "['toilet']                                                                 28\n",
       "['desk', 'bed']                                                            25\n",
       "['shower', 'shower']                                                       18\n",
       "['bed', 'fridge']                                                          15\n",
       "['bed', 'bath']                                                            13\n",
       "['tub']                                                                    13\n",
       "['bath', 'shower']                                                         13\n",
       "['pillow']                                                                 13\n",
       "['sheets']                                                                 12\n",
       "['shower', 'desk']                                                         12\n",
       "['bed', 'light']                                                           11\n",
       "['plugs']                                                                  11\n",
       "['chair']                                                                  11\n",
       "['desk', 'shower']                                                         10\n",
       "['bed', 'towels']                                                          10\n",
       "['shower', 'bath']                                                         10\n",
       "                                                                         ... \n",
       "['shower', 'desk', 'bed', 'sheets']                                         1\n",
       "['bed', 'plugs', 'shower']                                                  1\n",
       "['carpet', 'sheets']                                                        1\n",
       "['desk', 'light', 'tub', 'fridge', 'tub']                                   1\n",
       "['paint', 'toilet', 'desk', 'desk']                                         1\n",
       "['towels', 'bed', 'towels']                                                 1\n",
       "['outlet', 'shower']                                                        1\n",
       "['fridge', 'towels', 'desk', 'desk', 'desk']                                1\n",
       "['bed', 'shower', 'light', 'plugs']                                         1\n",
       "['fridge', 'shower', 'towels']                                              1\n",
       "['desk', 'mirror', 'bath']                                                  1\n",
       "['shower', 'shower', 'toilet', 'bed']                                       1\n",
       "['bed', 'bath', 'shower', 'bed']                                            1\n",
       "['bed', 'light', 'bed']                                                     1\n",
       "['bed', 'bed', 'shower', 'shower', 'shower', 'toilet', 'toilet']            1\n",
       "['tub', 'toilet']                                                           1\n",
       "['bed', 'sheets', 'towels', 'bath']                                         1\n",
       "['bed', 'bed', 'bed', 'fridge']                                             1\n",
       "['desk', 'fridge', 'lights', 'light', 'shower']                             1\n",
       "['desk', 'bath', 'bed', 'bed']                                              1\n",
       "['fridge', 'bed', 'desk', 'bed', 'light']                                   1\n",
       "['desk', 'bath', 'shower', 'shower', 'curtain', 'bed']                      1\n",
       "['bed', 'bath', 'shower', 'bath', 'shower']                                 1\n",
       "['shower', 'curtain', 'towels']                                             1\n",
       "['bath', 'bath', 'paint']                                                   1\n",
       "['covers', 'sheets', 'shower', 'shower', 'curtain', 'towels', 'desk']       1\n",
       "['bed', 'desk', 'chair', 'chair', 'fridge']                                 1\n",
       "['shower', 'shower', 'soap', 'soap', 'desk']                                1\n",
       "['light', 'toilet']                                                         1\n",
       "['shower', 'bath', 'toilet', 'desk', 'desk']                                1\n",
       "Name: room_list, Length: 582, dtype: int64"
      ]
     },
     "execution_count": 25,
     "metadata": {},
     "output_type": "execute_result"
    }
   ],
   "source": [
    "review_df['room_list'] = review_df.text.apply(room_list)\n",
    "review_df.room_list.value_counts()"
   ]
  },
  {
   "cell_type": "markdown",
   "metadata": {
    "ExecuteTime": {
     "end_time": "2020-01-18T20:18:56.435978Z",
     "start_time": "2020-01-18T20:18:56.434044Z"
    }
   },
   "source": [
    "## Feature Engineering - Final Element Mentions"
   ]
  },
  {
   "cell_type": "code",
   "execution_count": 26,
   "metadata": {
    "ExecuteTime": {
     "end_time": "2020-01-20T15:11:11.148287Z",
     "start_time": "2020-01-20T15:11:11.145827Z"
    }
   },
   "outputs": [],
   "source": [
    "import string\n",
    "def room_item(x):\n",
    "    list_of_words = x.split(\" \")\n",
    "    for word in list_of_words:\n",
    "        word = word.lower()\n",
    "        if word.strip(punctuation) in room_elements:\n",
    "            return word.strip(punctuation)\n",
    "        else:\n",
    "            pass"
   ]
  },
  {
   "cell_type": "code",
   "execution_count": 27,
   "metadata": {
    "ExecuteTime": {
     "end_time": "2020-01-20T15:11:11.986069Z",
     "start_time": "2020-01-20T15:11:11.640332Z"
    }
   },
   "outputs": [
    {
     "data": {
      "text/plain": [
       "bed           1115\n",
       "desk           697\n",
       "shower         407\n",
       "light          131\n",
       "bath           118\n",
       "fridge         107\n",
       "towels          87\n",
       "toilet          60\n",
       "lights          49\n",
       "tub             35\n",
       "sheets          27\n",
       "chair           20\n",
       "pillow          18\n",
       "plugs           14\n",
       "carpet          13\n",
       "plug            12\n",
       "mirror          12\n",
       "paint            9\n",
       "soap             8\n",
       "wallpaper        6\n",
       "curtain          6\n",
       "outlet           6\n",
       "covers           6\n",
       "blankets         5\n",
       "stationary       1\n",
       "Name: room_item, dtype: int64"
      ]
     },
     "execution_count": 27,
     "metadata": {},
     "output_type": "execute_result"
    }
   ],
   "source": [
    "review_df['room_item'] = review_df.text.apply(room_item)\n",
    "review_df.room_item.value_counts()"
   ]
  },
  {
   "cell_type": "code",
   "execution_count": 21,
   "metadata": {
    "ExecuteTime": {
     "end_time": "2020-01-18T20:28:16.867926Z",
     "start_time": "2020-01-18T20:28:16.864872Z"
    }
   },
   "outputs": [],
   "source": [
    "review_df.room_item.fillna('none', inplace = True)"
   ]
  },
  {
   "cell_type": "code",
   "execution_count": 24,
   "metadata": {
    "ExecuteTime": {
     "end_time": "2020-01-18T20:31:59.431606Z",
     "start_time": "2020-01-18T20:31:59.259779Z"
    }
   },
   "outputs": [],
   "source": [
    "review_df[['uuid', 'published', 'url', 'language', 'text', 'title', 'bed', 'desk', 'room', 'bathroom', 'room_list', 'room_item']].to_csv('good_review_lexical_dispersion.csv', sep = ',')"
   ]
  },
  {
   "cell_type": "code",
   "execution_count": 25,
   "metadata": {
    "ExecuteTime": {
     "end_time": "2020-01-18T20:39:39.783983Z",
     "start_time": "2020-01-18T20:39:39.780847Z"
    }
   },
   "outputs": [
    {
     "data": {
      "text/plain": [
       "Index(['author', 'crawled', 'entities', 'external_links', 'highlightText',\n",
       "       'highlightTitle', 'language', 'locations', 'ord_in_thread',\n",
       "       'organizations', 'persons', 'published', 'text', 'thread', 'title',\n",
       "       'url', 'uuid', 'bed', 'desk', 'room', 'bathroom', 'room_list',\n",
       "       'room_item'],\n",
       "      dtype='object')"
      ]
     },
     "execution_count": 25,
     "metadata": {},
     "output_type": "execute_result"
    }
   ],
   "source": [
    "review_df.columns"
   ]
  },
  {
   "cell_type": "code",
   "execution_count": null,
   "metadata": {},
   "outputs": [],
   "source": []
  }
 ],
 "metadata": {
  "kernelspec": {
   "display_name": "Python 3",
   "language": "python",
   "name": "python3"
  },
  "language_info": {
   "codemirror_mode": {
    "name": "ipython",
    "version": 3
   },
   "file_extension": ".py",
   "mimetype": "text/x-python",
   "name": "python",
   "nbconvert_exporter": "python",
   "pygments_lexer": "ipython3",
   "version": "3.6.5"
  }
 },
 "nbformat": 4,
 "nbformat_minor": 2
}
